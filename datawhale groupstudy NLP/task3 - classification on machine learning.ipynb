{
 "cells": [
  {
   "cell_type": "markdown",
   "metadata": {},
   "source": [
    "# task3 基于机器学习的文本分类"
   ]
  },
  {
   "cell_type": "markdown",
   "metadata": {},
   "source": [
    "由于数据量过于庞大，故在本地只导入部分数据（10000条训练数据）作为尝试，采用3折交叉验证作为评估。<br /> 结论：\n",
    "- 1）词频法效果较差\n",
    "- 2） TFIDF相比词频法有较高的进步\n",
    "- 3）尝试增加文本长度作为特征，对模型效果有些微的提升，但是不是很显著\n",
    "- 4）基于树模型的方法（Random forest and GBDT）使用默认参数似乎在这个场景效果不如岭回归，还没有尝试更多模型，有待验证\n",
    "- 5）TFIDF增加词的数量可以改善模型效果"
   ]
  },
  {
   "cell_type": "code",
   "execution_count": 67,
   "metadata": {},
   "outputs": [],
   "source": [
    "import pandas as pd\n",
    "from sklearn.feature_extraction.text import CountVectorizer\n",
    "from sklearn.feature_extraction.text import TfidfVectorizer\n",
    "from sklearn.linear_model import RidgeClassifier\n",
    "from sklearn.metrics import f1_score\n",
    "from sklearn.model_selection import cross_val_score\n",
    "import math\n",
    "import numpy as np\n",
    "from sklearn.linear_model import LogisticRegression\n",
    "from sklearn.ensemble import RandomForestClassifier\n",
    "from sklearn.ensemble import GradientBoostingClassifier\n",
    "from xgboost import XGBClassifier"
   ]
  },
  {
   "cell_type": "markdown",
   "metadata": {},
   "source": [
    "## 1.词频法"
   ]
  },
  {
   "cell_type": "code",
   "execution_count": 56,
   "metadata": {},
   "outputs": [],
   "source": [
    "train_df = pd.read_csv('train_set.csv', sep='\\t', nrows=10000)"
   ]
  },
  {
   "cell_type": "code",
   "execution_count": 57,
   "metadata": {},
   "outputs": [
    {
     "name": "stdout",
     "output_type": "stream",
     "text": [
      "0.7018818268874215\n"
     ]
    }
   ],
   "source": [
    "vectorizer = CountVectorizer(max_features=3000)\n",
    "train_test = vectorizer.fit_transform(train_df['text'])\n",
    "clf = RidgeClassifier()\n",
    "X = train_test\n",
    "y = train_df['label']\n",
    "print (cross_val_score(clf, X, y, cv=3, scoring='f1_macro').mean())"
   ]
  },
  {
   "cell_type": "markdown",
   "metadata": {},
   "source": [
    "## 2.TFIDF"
   ]
  },
  {
   "cell_type": "code",
   "execution_count": 62,
   "metadata": {},
   "outputs": [
    {
     "name": "stdout",
     "output_type": "stream",
     "text": [
      "0.8678348836244041\n"
     ]
    }
   ],
   "source": [
    "tfidf = TfidfVectorizer(ngram_range=(1,3), max_features=3000)\n",
    "clf = RidgeClassifier()\n",
    "train_test = tfidf.fit_transform(train_df['text'])\n",
    "X = train_test\n",
    "y = train_df['label']\n",
    "print(cross_val_score(clf, X, y, cv=3, scoring='f1_macro').mean() )"
   ]
  },
  {
   "cell_type": "code",
   "execution_count": 63,
   "metadata": {},
   "outputs": [
    {
     "name": "stdout",
     "output_type": "stream",
     "text": [
      "0.8687687338227859\n"
     ]
    }
   ],
   "source": [
    "train_df['text_len'] = train_df['text'].apply(lambda x: len(x.split(' ')))\n",
    "train_df['log_text'] =  train_df['text_len'].apply(lambda x: math.log(x))\n",
    "X = pd.concat([pd.DataFrame(train_test.toarray()), train_df.log_text] ,axis=1)\n",
    "y = train_df['label']\n",
    "print(cross_val_score(clf, X, y, cv=3, scoring='f1_macro').mean() )"
   ]
  },
  {
   "cell_type": "code",
   "execution_count": 64,
   "metadata": {},
   "outputs": [
    {
     "name": "stdout",
     "output_type": "stream",
     "text": [
      "0.7703247992300352\n"
     ]
    }
   ],
   "source": [
    "clf = RandomForestClassifier()\n",
    "train_test = tfidf.fit_transform(train_df['text'])\n",
    "X = train_test\n",
    "y = train_df['label']\n",
    "print(cross_val_score(clf, X, y, cv=3, scoring='f1_macro').mean() )"
   ]
  },
  {
   "cell_type": "code",
   "execution_count": 68,
   "metadata": {},
   "outputs": [
    {
     "name": "stdout",
     "output_type": "stream",
     "text": [
      "0.7889408927102632\n"
     ]
    }
   ],
   "source": [
    "clf =GradientBoostingClassifier()\n",
    "train_test = tfidf.fit_transform(train_df['text'])\n",
    "X = train_test\n",
    "y = train_df['label']\n",
    "print(cross_val_score(clf, X, y, cv=3, scoring='f1_macro').mean() )"
   ]
  },
  {
   "cell_type": "code",
   "execution_count": null,
   "metadata": {},
   "outputs": [],
   "source": []
  },
  {
   "cell_type": "markdown",
   "metadata": {},
   "source": [
    "## 3.输出预测结果"
   ]
  },
  {
   "cell_type": "code",
   "execution_count": 49,
   "metadata": {},
   "outputs": [],
   "source": [
    "test_df = pd.read_csv('test_a.csv', sep='\\t',nrows=1000)"
   ]
  },
  {
   "cell_type": "code",
   "execution_count": 50,
   "metadata": {},
   "outputs": [],
   "source": [
    "test_trans = tfidf.transform(test_df['text'])"
   ]
  },
  {
   "cell_type": "code",
   "execution_count": null,
   "metadata": {},
   "outputs": [],
   "source": [
    "val_pred = clf.predict(test_trans)\n",
    "pd.DataFrame(val_pred,columns=['label']).to_csv('/home/tianchi/myspace/result.csv',index=False)"
   ]
  }
 ],
 "metadata": {
  "kernelspec": {
   "display_name": "Python 3",
   "language": "python",
   "name": "python3"
  },
  "language_info": {
   "codemirror_mode": {
    "name": "ipython",
    "version": 3
   },
   "file_extension": ".py",
   "mimetype": "text/x-python",
   "name": "python",
   "nbconvert_exporter": "python",
   "pygments_lexer": "ipython3",
   "version": "3.7.0"
  },
  "toc": {
   "base_numbering": 1,
   "nav_menu": {},
   "number_sections": false,
   "sideBar": true,
   "skip_h1_title": false,
   "title_cell": "Table of Contents",
   "title_sidebar": "Contents",
   "toc_cell": false,
   "toc_position": {},
   "toc_section_display": true,
   "toc_window_display": false
  }
 },
 "nbformat": 4,
 "nbformat_minor": 4
}
