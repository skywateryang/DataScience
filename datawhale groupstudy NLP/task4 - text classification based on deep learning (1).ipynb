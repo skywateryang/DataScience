{
 "cells": [
  {
   "cell_type": "markdown",
   "metadata": {},
   "source": [
    "# task4 基于深度学习的文本分类（1）"
   ]
  },
  {
   "cell_type": "code",
   "execution_count": 38,
   "metadata": {},
   "outputs": [],
   "source": [
    "import pandas as pd\n",
    "import numpy as np\n",
    "from sklearn.metrics import f1_score\n",
    "import fasttext\n",
    "from sklearn.model_selection import StratifiedKFold"
   ]
  },
  {
   "cell_type": "markdown",
   "metadata": {},
   "source": [
    "## 1.单次模型训练"
   ]
  },
  {
   "cell_type": "code",
   "execution_count": 2,
   "metadata": {},
   "outputs": [
    {
     "name": "stdout",
     "output_type": "stream",
     "text": [
      "0.8276528375115089\n"
     ]
    }
   ],
   "source": [
    "# 转换为FastText需要的格式\n",
    "train_df = pd.read_csv('train_set.csv', sep='\\t', nrows=15000)\n",
    "train_df['label_ft'] = '__label__' + train_df['label'].astype(str)\n",
    "train_df[['text','label_ft']].iloc[:-5000].to_csv('train.csv', index=None, header=None, sep='\\t')\n",
    "\n",
    "# 训练样本\n",
    "model = fasttext.train_supervised('train.csv', lr=1.0, wordNgrams=2, \n",
    "                                  verbose=2, minCount=1, epoch=25, loss=\"hs\")\n",
    "\n",
    "val_pred = [model.predict(x)[0][0].split('__')[-1] for x in train_df.iloc[-5000:]['text']]\n",
    "print(f1_score(train_df['label'].values[-5000:].astype(str), val_pred, average='macro'))\n",
    "# 0.82"
   ]
  },
  {
   "cell_type": "markdown",
   "metadata": {},
   "source": [
    "## 2.在验证集上进行模型调参"
   ]
  },
  {
   "cell_type": "markdown",
   "metadata": {},
   "source": [
    "查询fasttext官方文档，训练模型的参数如下"
   ]
  },
  {
   "cell_type": "markdown",
   "metadata": {},
   "source": [
    "![title](fasttext_api.PNG)"
   ]
  },
  {
   "cell_type": "code",
   "execution_count": 43,
   "metadata": {},
   "outputs": [],
   "source": [
    "train_df = pd.read_csv('train_set.csv', sep='\\t', nrows=10000)\n",
    "train_df['label_ft'] = '__label__' + train_df['label'].astype(str)\n",
    "data = train_df[['text','label_ft']]\n",
    "cv = StratifiedKFold(n_splits=5)"
   ]
  },
  {
   "cell_type": "code",
   "execution_count": 39,
   "metadata": {},
   "outputs": [],
   "source": [
    "score = []\n",
    "for train_index, test_index in cv.split(train_df.text, train_df.label_ft):\n",
    "    train_df[['text','label_ft']].loc[train_index,:].to_csv('train.csv', index=None, header=None, sep='\\t')\n",
    "    model = fasttext.train_supervised('train.csv', lr=5, wordNgrams=2, \n",
    "                                  verbose=2, minCount=1, epoch=25, loss=\"hs\")\n",
    "    val_pred = [model.predict(x)[0][0].split('__')[-1] for x in  train_df.loc[test_index,:]['text']]\n",
    "    score.append (f1_score(train_df.loc[test_index,:]['label'].astype(str), val_pred, average='macro'))\n"
   ]
  },
  {
   "cell_type": "code",
   "execution_count": 42,
   "metadata": {},
   "outputs": [
    {
     "name": "stdout",
     "output_type": "stream",
     "text": [
      "0.8380843831075996\n"
     ]
    }
   ],
   "source": [
    "print (np.array(score).mean())"
   ]
  },
  {
   "cell_type": "code",
   "execution_count": 49,
   "metadata": {},
   "outputs": [
    {
     "name": "stdout",
     "output_type": "stream",
     "text": [
      "mincount = 1, score = 0.8349351979652864 \n",
      "mincount = 3, score = 0.8307314954910353 \n",
      "mincount = 5, score = 0.8276919970983496 \n",
      "mincount = 10, score = 0.828450628740544 \n"
     ]
    }
   ],
   "source": [
    "for mincount in [1,3,5,10]:\n",
    "    score = []\n",
    "    for train_index, test_index in cv.split(train_df.text, train_df.label_ft):\n",
    "        train_df[['text','label_ft']].loc[train_index,:].to_csv('train.csv', index=None, header=None, sep='\\t')\n",
    "        model = fasttext.train_supervised('train.csv', lr=5, wordNgrams=2, \n",
    "                                      verbose=2, minCount=mincount, epoch=25, loss=\"hs\")\n",
    "        val_pred = [model.predict(x)[0][0].split('__')[-1] for x in  train_df.loc[test_index,:]['text']]\n",
    "        score.append (f1_score(train_df.loc[test_index,:]['label'].astype(str), val_pred, average='macro'))\n",
    "    print (\"mincount = {0}, score = {1} \".format(mincount, np.array(score).mean()))"
   ]
  },
  {
   "cell_type": "code",
   "execution_count": 51,
   "metadata": {},
   "outputs": [
    {
     "name": "stdout",
     "output_type": "stream",
     "text": [
      "wordNgrams = 1, score = 0.7819347049788359 \n",
      "wordNgrams = 2, score = 0.8246107160490512 \n",
      "wordNgrams = 3, score = 0.8221268604321488 \n"
     ]
    }
   ],
   "source": [
    "for n in [1,2,3]:\n",
    "    score = []\n",
    "    for train_index, test_index in cv.split(train_df.text, train_df.label_ft):\n",
    "        train_df[['text','label_ft']].loc[train_index,:].to_csv('train.csv', index=None, header=None, sep='\\t')\n",
    "        model = fasttext.train_supervised('train.csv', lr=1, wordNgrams=n, \n",
    "                                      verbose=2, minCount=1, epoch=25, loss=\"hs\")\n",
    "        val_pred = [model.predict(x)[0][0].split('__')[-1] for x in  train_df.loc[test_index,:]['text']]\n",
    "        score.append (f1_score(train_df.loc[test_index,:]['label'].astype(str), val_pred, average='macro'))\n",
    "    print (\"wordNgrams = {0}, score = {1} \".format(n, np.array(score).mean()))"
   ]
  },
  {
   "cell_type": "markdown",
   "metadata": {},
   "source": [
    "## 结论\n",
    "- 尝试了修改几个超参数调参，采用5折分层交叉验证，mincount在等于1时效果最好，wordNgrams在等于2时效果最好"
   ]
  },
  {
   "cell_type": "code",
   "execution_count": null,
   "metadata": {},
   "outputs": [],
   "source": []
  }
 ],
 "metadata": {
  "kernelspec": {
   "display_name": "Python 3",
   "language": "python",
   "name": "python3"
  },
  "language_info": {
   "codemirror_mode": {
    "name": "ipython",
    "version": 3
   },
   "file_extension": ".py",
   "mimetype": "text/x-python",
   "name": "python",
   "nbconvert_exporter": "python",
   "pygments_lexer": "ipython3",
   "version": "3.7.0"
  },
  "toc": {
   "base_numbering": 1,
   "nav_menu": {},
   "number_sections": false,
   "sideBar": true,
   "skip_h1_title": false,
   "title_cell": "Table of Contents",
   "title_sidebar": "Contents",
   "toc_cell": false,
   "toc_position": {},
   "toc_section_display": true,
   "toc_window_display": false
  }
 },
 "nbformat": 4,
 "nbformat_minor": 4
}
